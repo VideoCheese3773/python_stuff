{
 "cells": [
  {
   "cell_type": "code",
   "execution_count": 8,
   "metadata": {},
   "outputs": [
    {
     "data": {
      "application/vnd.jupyter.widget-view+json": {
       "model_id": "01bb9fcdc5824eecab9cb06aa57a9740",
       "version_major": 2,
       "version_minor": 0
      },
      "text/plain": [
       "interactive(children=(Dropdown(description='Columna:', options=('ID', 'Nombre completo', 'Edad', 'Género', 'Lu…"
      ]
     },
     "metadata": {},
     "output_type": "display_data"
    },
    {
     "data": {
      "application/vnd.jupyter.widget-view+json": {
       "model_id": "10d3f4b7a8b746da81d8f2a3043ef9c0",
       "version_major": 2,
       "version_minor": 0
      },
      "text/plain": [
       "Output()"
      ]
     },
     "metadata": {},
     "output_type": "display_data"
    }
   ],
   "source": [
    "import pandas as pd\n",
    "import ipywidgets as widgets\n",
    "\n",
    "df = pd.read_csv('https://docs.google.com/spreadsheets/d/1YPvVNTy7qFJS1MDSjvseYfEQDlYIW8B6cv7d-6Zjnr8/pub?output=csv')\n",
    "\n",
    "# Crear widgets para seleccionar la columna y el orden\n",
    "columna_selector = widgets.Dropdown(\n",
    "    options=df.columns,\n",
    "    description='Columna:'\n",
    ")\n",
    "\n",
    "orden_selector = widgets.ToggleButtons(\n",
    "    options=['Ascendente', 'Descendente'],\n",
    "    description='Orden:'\n",
    ")\n",
    "\n",
    "# Función para ordenar el DataFrame\n",
    "def ordenar(columna, orden):\n",
    "    orden_asc = True if orden == 'Ascendente' else False\n",
    "    df_ordenado = df.sort_values(by=columna, ascending=orden_asc)\n",
    "    display(df_ordenado)\n",
    "\n",
    "# Crear una salida para mostrar el DataFrame ordenado\n",
    "output = widgets.Output()\n",
    "\n",
    "# Interacción con los widgets\n",
    "widgets.interact(\n",
    "    ordenar,\n",
    "    columna=columna_selector,\n",
    "    orden=orden_selector\n",
    ")\n",
    "\n",
    "# Mostrar la salida\n",
    "display(output)"
   ]
  },
  {
   "cell_type": "code",
   "execution_count": 10,
   "metadata": {},
   "outputs": [
    {
     "ename": "KeyError",
     "evalue": "'nombre'",
     "output_type": "error",
     "traceback": [
      "\u001b[1;31m---------------------------------------------------------------------------\u001b[0m",
      "\u001b[1;31mKeyError\u001b[0m                                  Traceback (most recent call last)",
      "File \u001b[1;32mf:\\App_Install_Folder\\Anaconda_Suite\\Lib\\site-packages\\pandas\\core\\indexes\\base.py:3805\u001b[0m, in \u001b[0;36mIndex.get_loc\u001b[1;34m(self, key)\u001b[0m\n\u001b[0;32m   3804\u001b[0m \u001b[38;5;28;01mtry\u001b[39;00m:\n\u001b[1;32m-> 3805\u001b[0m     \u001b[38;5;28;01mreturn\u001b[39;00m \u001b[38;5;28mself\u001b[39m\u001b[38;5;241m.\u001b[39m_engine\u001b[38;5;241m.\u001b[39mget_loc(casted_key)\n\u001b[0;32m   3806\u001b[0m \u001b[38;5;28;01mexcept\u001b[39;00m \u001b[38;5;167;01mKeyError\u001b[39;00m \u001b[38;5;28;01mas\u001b[39;00m err:\n",
      "File \u001b[1;32mindex.pyx:167\u001b[0m, in \u001b[0;36mpandas._libs.index.IndexEngine.get_loc\u001b[1;34m()\u001b[0m\n",
      "File \u001b[1;32mindex.pyx:196\u001b[0m, in \u001b[0;36mpandas._libs.index.IndexEngine.get_loc\u001b[1;34m()\u001b[0m\n",
      "File \u001b[1;32mpandas\\\\_libs\\\\hashtable_class_helper.pxi:7081\u001b[0m, in \u001b[0;36mpandas._libs.hashtable.PyObjectHashTable.get_item\u001b[1;34m()\u001b[0m\n",
      "File \u001b[1;32mpandas\\\\_libs\\\\hashtable_class_helper.pxi:7089\u001b[0m, in \u001b[0;36mpandas._libs.hashtable.PyObjectHashTable.get_item\u001b[1;34m()\u001b[0m\n",
      "\u001b[1;31mKeyError\u001b[0m: 'nombre'",
      "\nThe above exception was the direct cause of the following exception:\n",
      "\u001b[1;31mKeyError\u001b[0m                                  Traceback (most recent call last)",
      "Cell \u001b[1;32mIn[10], line 12\u001b[0m\n\u001b[0;32m      8\u001b[0m df \u001b[38;5;241m=\u001b[39m pd\u001b[38;5;241m.\u001b[39mread_csv(\u001b[38;5;124m'\u001b[39m\u001b[38;5;124mhttps://docs.google.com/spreadsheets/d/1YPvVNTy7qFJS1MDSjvseYfEQDlYIW8B6cv7d-6Zjnr8/pub?output=csv\u001b[39m\u001b[38;5;124m'\u001b[39m)\n\u001b[0;32m     10\u001b[0m \u001b[38;5;66;03m# Crear listas desplegables para seleccionar las personas\u001b[39;00m\n\u001b[0;32m     11\u001b[0m persona1_selector \u001b[38;5;241m=\u001b[39m widgets\u001b[38;5;241m.\u001b[39mDropdown(\n\u001b[1;32m---> 12\u001b[0m     options\u001b[38;5;241m=\u001b[39mdf[\u001b[38;5;124m'\u001b[39m\u001b[38;5;124mnombre\u001b[39m\u001b[38;5;124m'\u001b[39m],\n\u001b[0;32m     13\u001b[0m     description\u001b[38;5;241m=\u001b[39m\u001b[38;5;124m'\u001b[39m\u001b[38;5;124mPersona 1:\u001b[39m\u001b[38;5;124m'\u001b[39m\n\u001b[0;32m     14\u001b[0m )\n\u001b[0;32m     16\u001b[0m persona2_selector \u001b[38;5;241m=\u001b[39m widgets\u001b[38;5;241m.\u001b[39mDropdown(\n\u001b[0;32m     17\u001b[0m     options\u001b[38;5;241m=\u001b[39mdf[\u001b[38;5;124m'\u001b[39m\u001b[38;5;124mnombre\u001b[39m\u001b[38;5;124m'\u001b[39m],\n\u001b[0;32m     18\u001b[0m     description\u001b[38;5;241m=\u001b[39m\u001b[38;5;124m'\u001b[39m\u001b[38;5;124mPersona 2:\u001b[39m\u001b[38;5;124m'\u001b[39m\n\u001b[0;32m     19\u001b[0m )\n\u001b[0;32m     21\u001b[0m \u001b[38;5;66;03m# Botón para ejecutar el cálculo\u001b[39;00m\n",
      "File \u001b[1;32mf:\\App_Install_Folder\\Anaconda_Suite\\Lib\\site-packages\\pandas\\core\\frame.py:4102\u001b[0m, in \u001b[0;36mDataFrame.__getitem__\u001b[1;34m(self, key)\u001b[0m\n\u001b[0;32m   4100\u001b[0m \u001b[38;5;28;01mif\u001b[39;00m \u001b[38;5;28mself\u001b[39m\u001b[38;5;241m.\u001b[39mcolumns\u001b[38;5;241m.\u001b[39mnlevels \u001b[38;5;241m>\u001b[39m \u001b[38;5;241m1\u001b[39m:\n\u001b[0;32m   4101\u001b[0m     \u001b[38;5;28;01mreturn\u001b[39;00m \u001b[38;5;28mself\u001b[39m\u001b[38;5;241m.\u001b[39m_getitem_multilevel(key)\n\u001b[1;32m-> 4102\u001b[0m indexer \u001b[38;5;241m=\u001b[39m \u001b[38;5;28mself\u001b[39m\u001b[38;5;241m.\u001b[39mcolumns\u001b[38;5;241m.\u001b[39mget_loc(key)\n\u001b[0;32m   4103\u001b[0m \u001b[38;5;28;01mif\u001b[39;00m is_integer(indexer):\n\u001b[0;32m   4104\u001b[0m     indexer \u001b[38;5;241m=\u001b[39m [indexer]\n",
      "File \u001b[1;32mf:\\App_Install_Folder\\Anaconda_Suite\\Lib\\site-packages\\pandas\\core\\indexes\\base.py:3812\u001b[0m, in \u001b[0;36mIndex.get_loc\u001b[1;34m(self, key)\u001b[0m\n\u001b[0;32m   3807\u001b[0m     \u001b[38;5;28;01mif\u001b[39;00m \u001b[38;5;28misinstance\u001b[39m(casted_key, \u001b[38;5;28mslice\u001b[39m) \u001b[38;5;129;01mor\u001b[39;00m (\n\u001b[0;32m   3808\u001b[0m         \u001b[38;5;28misinstance\u001b[39m(casted_key, abc\u001b[38;5;241m.\u001b[39mIterable)\n\u001b[0;32m   3809\u001b[0m         \u001b[38;5;129;01mand\u001b[39;00m \u001b[38;5;28many\u001b[39m(\u001b[38;5;28misinstance\u001b[39m(x, \u001b[38;5;28mslice\u001b[39m) \u001b[38;5;28;01mfor\u001b[39;00m x \u001b[38;5;129;01min\u001b[39;00m casted_key)\n\u001b[0;32m   3810\u001b[0m     ):\n\u001b[0;32m   3811\u001b[0m         \u001b[38;5;28;01mraise\u001b[39;00m InvalidIndexError(key)\n\u001b[1;32m-> 3812\u001b[0m     \u001b[38;5;28;01mraise\u001b[39;00m \u001b[38;5;167;01mKeyError\u001b[39;00m(key) \u001b[38;5;28;01mfrom\u001b[39;00m \u001b[38;5;21;01merr\u001b[39;00m\n\u001b[0;32m   3813\u001b[0m \u001b[38;5;28;01mexcept\u001b[39;00m \u001b[38;5;167;01mTypeError\u001b[39;00m:\n\u001b[0;32m   3814\u001b[0m     \u001b[38;5;66;03m# If we have a listlike key, _check_indexing_error will raise\u001b[39;00m\n\u001b[0;32m   3815\u001b[0m     \u001b[38;5;66;03m#  InvalidIndexError. Otherwise we fall through and re-raise\u001b[39;00m\n\u001b[0;32m   3816\u001b[0m     \u001b[38;5;66;03m#  the TypeError.\u001b[39;00m\n\u001b[0;32m   3817\u001b[0m     \u001b[38;5;28mself\u001b[39m\u001b[38;5;241m.\u001b[39m_check_indexing_error(key)\n",
      "\u001b[1;31mKeyError\u001b[0m: 'nombre'"
     ]
    }
   ],
   "source": [
    "import pandas as pd\n",
    "import numpy as np\n",
    "from sklearn.metrics.pairwise import cosine_similarity\n",
    "import ipywidgets as widgets\n",
    "from IPython.display import display, HTML\n",
    "\n",
    "# Crear un DataFrame de ejemplo\n",
    "df = pd.read_csv('https://docs.google.com/spreadsheets/d/1YPvVNTy7qFJS1MDSjvseYfEQDlYIW8B6cv7d-6Zjnr8/pub?output=csv')\n",
    "\n",
    "# Crear listas desplegables para seleccionar las personas\n",
    "persona1_selector = widgets.Dropdown(\n",
    "    options=df['nombre'],\n",
    "    description='Persona 1:'\n",
    ")\n",
    "\n",
    "persona2_selector = widgets.Dropdown(\n",
    "    options=df['nombre'],\n",
    "    description='Persona 2:'\n",
    ")\n",
    "\n",
    "# Botón para ejecutar el cálculo\n",
    "calcular_button = widgets.Button(description='Calcular Similitud Coseno')\n",
    "\n",
    "# Espacio para mostrar el resultado\n",
    "resultado_output = widgets.Output()\n",
    "\n",
    "# Función para calcular la similitud coseno\n",
    "def calcular_similitud(persona1, persona2):\n",
    "    if persona1 == persona2:\n",
    "        resultado_output.clear_output()\n",
    "        with resultado_output:\n",
    "            print(\"Seleccione dos personas diferentes.\")\n",
    "        return\n",
    "    \n",
    "    vector1 = df[df['Nombre completo'] == persona1].iloc[:, 1:].values\n",
    "    vector2 = df[df['Nombre completo'] == persona2].iloc[:, 1:].values\n",
    "    \n",
    "    similitud = cosine_similarity(vector1, vector2)[0][0]\n",
    "    \n",
    "    resultado_output.clear_output()\n",
    "    with resultado_output:\n",
    "        print(f\"La similitud coseno entre {persona1} y {persona2} es: {similitud:.4f}\")\n",
    "\n",
    "# Conectar la función al botón\n",
    "calcular_button.on_click(lambda _: calcular_similitud(persona1_selector.value, persona2_selector.value))\n",
    "\n",
    "# Mostrar la interfaz\n",
    "display(persona1_selector, persona2_selector, calcular_button, resultado_output)"
   ]
  },
  {
   "cell_type": "markdown",
   "metadata": {},
   "source": [
    "# Take 2\n"
   ]
  },
  {
   "cell_type": "code",
   "execution_count": 11,
   "metadata": {},
   "outputs": [
    {
     "data": {
      "text/html": [
       "<div>\n",
       "<style scoped>\n",
       "    .dataframe tbody tr th:only-of-type {\n",
       "        vertical-align: middle;\n",
       "    }\n",
       "\n",
       "    .dataframe tbody tr th {\n",
       "        vertical-align: top;\n",
       "    }\n",
       "\n",
       "    .dataframe thead th {\n",
       "        text-align: right;\n",
       "    }\n",
       "</style>\n",
       "<table border=\"1\" class=\"dataframe\">\n",
       "  <thead>\n",
       "    <tr style=\"text-align: right;\">\n",
       "      <th></th>\n",
       "      <th>ID,Nombre,Edad,Género,Lugar de nacimiento,# De hermanos,# Deportes practicados,# De creditos cursando,# Semestre,# Horas promedio de sueño,Tipo de vivienda (Apto/Casa),Género Musical Preferido,Simultaneidad (SI/NO),# Materias perdidas,# Materias canceladas,\"Perfil preferido (UX, UI, FRONTEND, UX/UI, MIX)\"</th>\n",
       "    </tr>\n",
       "  </thead>\n",
       "  <tbody>\n",
       "    <tr>\n",
       "      <th>0</th>\n",
       "      <td>1,Andrés Felipe Neira Méndez,20,Masculino,Cali...</td>\n",
       "    </tr>\n",
       "    <tr>\n",
       "      <th>1</th>\n",
       "      <td>2,Juan Esteban Ramirez Perdomo,20,Masculino,Pa...</td>\n",
       "    </tr>\n",
       "    <tr>\n",
       "      <th>2</th>\n",
       "      <td>3,Santiago Cuadros Mateus,20,Masculino,Cali,3,...</td>\n",
       "    </tr>\n",
       "    <tr>\n",
       "      <th>3</th>\n",
       "      <td>4,Isaac Calle Cardozo,20,Masculino,Medellin,3,...</td>\n",
       "    </tr>\n",
       "    <tr>\n",
       "      <th>4</th>\n",
       "      <td>5,Juan David Valencia,20,Masculino,Cali,0,5,17...</td>\n",
       "    </tr>\n",
       "  </tbody>\n",
       "</table>\n",
       "</div>"
      ],
      "text/plain": [
       "  ID,Nombre,Edad,Género,Lugar de nacimiento,# De hermanos,# Deportes practicados,# De creditos cursando,# Semestre,# Horas promedio de sueño,Tipo de vivienda (Apto/Casa),Género Musical Preferido,Simultaneidad (SI/NO),# Materias perdidas,# Materias canceladas,\"Perfil preferido (UX, UI, FRONTEND, UX/UI, MIX)\"\n",
       "0  1,Andrés Felipe Neira Méndez,20,Masculino,Cali...                                                                                                                                                                                                                                                                \n",
       "1  2,Juan Esteban Ramirez Perdomo,20,Masculino,Pa...                                                                                                                                                                                                                                                                \n",
       "2  3,Santiago Cuadros Mateus,20,Masculino,Cali,3,...                                                                                                                                                                                                                                                                \n",
       "3  4,Isaac Calle Cardozo,20,Masculino,Medellin,3,...                                                                                                                                                                                                                                                                \n",
       "4  5,Juan David Valencia,20,Masculino,Cali,0,5,17...                                                                                                                                                                                                                                                                "
      ]
     },
     "metadata": {},
     "output_type": "display_data"
    },
    {
     "ename": "KeyError",
     "evalue": "'Nombre'",
     "output_type": "error",
     "traceback": [
      "\u001b[1;31m---------------------------------------------------------------------------\u001b[0m",
      "\u001b[1;31mKeyError\u001b[0m                                  Traceback (most recent call last)",
      "File \u001b[1;32m~\\AppData\\Local\\Packages\\PythonSoftwareFoundation.Python.3.11_qbz5n2kfra8p0\\LocalCache\\local-packages\\Python311\\site-packages\\pandas\\core\\indexes\\base.py:3805\u001b[0m, in \u001b[0;36mIndex.get_loc\u001b[1;34m(self, key)\u001b[0m\n\u001b[0;32m   3804\u001b[0m \u001b[38;5;28;01mtry\u001b[39;00m:\n\u001b[1;32m-> 3805\u001b[0m     \u001b[38;5;28;01mreturn\u001b[39;00m \u001b[38;5;28;43mself\u001b[39;49m\u001b[38;5;241;43m.\u001b[39;49m\u001b[43m_engine\u001b[49m\u001b[38;5;241;43m.\u001b[39;49m\u001b[43mget_loc\u001b[49m\u001b[43m(\u001b[49m\u001b[43mcasted_key\u001b[49m\u001b[43m)\u001b[49m\n\u001b[0;32m   3806\u001b[0m \u001b[38;5;28;01mexcept\u001b[39;00m \u001b[38;5;167;01mKeyError\u001b[39;00m \u001b[38;5;28;01mas\u001b[39;00m err:\n",
      "File \u001b[1;32mindex.pyx:167\u001b[0m, in \u001b[0;36mpandas._libs.index.IndexEngine.get_loc\u001b[1;34m()\u001b[0m\n",
      "File \u001b[1;32mindex.pyx:196\u001b[0m, in \u001b[0;36mpandas._libs.index.IndexEngine.get_loc\u001b[1;34m()\u001b[0m\n",
      "File \u001b[1;32mpandas\\\\_libs\\\\hashtable_class_helper.pxi:7081\u001b[0m, in \u001b[0;36mpandas._libs.hashtable.PyObjectHashTable.get_item\u001b[1;34m()\u001b[0m\n",
      "File \u001b[1;32mpandas\\\\_libs\\\\hashtable_class_helper.pxi:7089\u001b[0m, in \u001b[0;36mpandas._libs.hashtable.PyObjectHashTable.get_item\u001b[1;34m()\u001b[0m\n",
      "\u001b[1;31mKeyError\u001b[0m: 'Nombre'",
      "\nThe above exception was the direct cause of the following exception:\n",
      "\u001b[1;31mKeyError\u001b[0m                                  Traceback (most recent call last)",
      "Cell \u001b[1;32mIn[11], line 20\u001b[0m\n\u001b[0;32m     17\u001b[0m ruta_csv \u001b[38;5;241m=\u001b[39m \u001b[38;5;124m'\u001b[39m\u001b[38;5;124m./STI-Grupo.csv\u001b[39m\u001b[38;5;124m'\u001b[39m\n\u001b[0;32m     19\u001b[0m \u001b[38;5;66;03m# Cargar el archivo CSV\u001b[39;00m\n\u001b[1;32m---> 20\u001b[0m \u001b[43mcargar_csv\u001b[49m\u001b[43m(\u001b[49m\u001b[43mruta_csv\u001b[49m\u001b[43m)\u001b[49m\n\u001b[0;32m     22\u001b[0m \u001b[38;5;66;03m# Crear listas desplegables para seleccionar personas\u001b[39;00m\n\u001b[0;32m     23\u001b[0m persona1_selector \u001b[38;5;241m=\u001b[39m widgets\u001b[38;5;241m.\u001b[39mDropdown(\n\u001b[0;32m     24\u001b[0m     description\u001b[38;5;241m=\u001b[39m\u001b[38;5;124m'\u001b[39m\u001b[38;5;124mPersona 1:\u001b[39m\u001b[38;5;124m'\u001b[39m\n\u001b[0;32m     25\u001b[0m )\n",
      "Cell \u001b[1;32mIn[11], line 13\u001b[0m, in \u001b[0;36mcargar_csv\u001b[1;34m(ruta)\u001b[0m\n\u001b[0;32m     10\u001b[0m display(df\u001b[38;5;241m.\u001b[39mhead())  \u001b[38;5;66;03m# Muestra una vista previa de los primeros elementos\u001b[39;00m\n\u001b[0;32m     12\u001b[0m \u001b[38;5;66;03m# Crear listas desplegables basadas en los nombres en la columna 'Nombre'\u001b[39;00m\n\u001b[1;32m---> 13\u001b[0m persona1_selector\u001b[38;5;241m.\u001b[39moptions \u001b[38;5;241m=\u001b[39m \u001b[43mdf\u001b[49m\u001b[43m[\u001b[49m\u001b[38;5;124;43m'\u001b[39;49m\u001b[38;5;124;43mNombre\u001b[39;49m\u001b[38;5;124;43m'\u001b[39;49m\u001b[43m]\u001b[49m\n\u001b[0;32m     14\u001b[0m persona2_selector\u001b[38;5;241m.\u001b[39moptions \u001b[38;5;241m=\u001b[39m df[\u001b[38;5;124m'\u001b[39m\u001b[38;5;124mNombre\u001b[39m\u001b[38;5;124m'\u001b[39m]\n",
      "File \u001b[1;32m~\\AppData\\Local\\Packages\\PythonSoftwareFoundation.Python.3.11_qbz5n2kfra8p0\\LocalCache\\local-packages\\Python311\\site-packages\\pandas\\core\\frame.py:4102\u001b[0m, in \u001b[0;36mDataFrame.__getitem__\u001b[1;34m(self, key)\u001b[0m\n\u001b[0;32m   4100\u001b[0m \u001b[38;5;28;01mif\u001b[39;00m \u001b[38;5;28mself\u001b[39m\u001b[38;5;241m.\u001b[39mcolumns\u001b[38;5;241m.\u001b[39mnlevels \u001b[38;5;241m>\u001b[39m \u001b[38;5;241m1\u001b[39m:\n\u001b[0;32m   4101\u001b[0m     \u001b[38;5;28;01mreturn\u001b[39;00m \u001b[38;5;28mself\u001b[39m\u001b[38;5;241m.\u001b[39m_getitem_multilevel(key)\n\u001b[1;32m-> 4102\u001b[0m indexer \u001b[38;5;241m=\u001b[39m \u001b[38;5;28;43mself\u001b[39;49m\u001b[38;5;241;43m.\u001b[39;49m\u001b[43mcolumns\u001b[49m\u001b[38;5;241;43m.\u001b[39;49m\u001b[43mget_loc\u001b[49m\u001b[43m(\u001b[49m\u001b[43mkey\u001b[49m\u001b[43m)\u001b[49m\n\u001b[0;32m   4103\u001b[0m \u001b[38;5;28;01mif\u001b[39;00m is_integer(indexer):\n\u001b[0;32m   4104\u001b[0m     indexer \u001b[38;5;241m=\u001b[39m [indexer]\n",
      "File \u001b[1;32m~\\AppData\\Local\\Packages\\PythonSoftwareFoundation.Python.3.11_qbz5n2kfra8p0\\LocalCache\\local-packages\\Python311\\site-packages\\pandas\\core\\indexes\\base.py:3812\u001b[0m, in \u001b[0;36mIndex.get_loc\u001b[1;34m(self, key)\u001b[0m\n\u001b[0;32m   3807\u001b[0m     \u001b[38;5;28;01mif\u001b[39;00m \u001b[38;5;28misinstance\u001b[39m(casted_key, \u001b[38;5;28mslice\u001b[39m) \u001b[38;5;129;01mor\u001b[39;00m (\n\u001b[0;32m   3808\u001b[0m         \u001b[38;5;28misinstance\u001b[39m(casted_key, abc\u001b[38;5;241m.\u001b[39mIterable)\n\u001b[0;32m   3809\u001b[0m         \u001b[38;5;129;01mand\u001b[39;00m \u001b[38;5;28many\u001b[39m(\u001b[38;5;28misinstance\u001b[39m(x, \u001b[38;5;28mslice\u001b[39m) \u001b[38;5;28;01mfor\u001b[39;00m x \u001b[38;5;129;01min\u001b[39;00m casted_key)\n\u001b[0;32m   3810\u001b[0m     ):\n\u001b[0;32m   3811\u001b[0m         \u001b[38;5;28;01mraise\u001b[39;00m InvalidIndexError(key)\n\u001b[1;32m-> 3812\u001b[0m     \u001b[38;5;28;01mraise\u001b[39;00m \u001b[38;5;167;01mKeyError\u001b[39;00m(key) \u001b[38;5;28;01mfrom\u001b[39;00m \u001b[38;5;21;01merr\u001b[39;00m\n\u001b[0;32m   3813\u001b[0m \u001b[38;5;28;01mexcept\u001b[39;00m \u001b[38;5;167;01mTypeError\u001b[39;00m:\n\u001b[0;32m   3814\u001b[0m     \u001b[38;5;66;03m# If we have a listlike key, _check_indexing_error will raise\u001b[39;00m\n\u001b[0;32m   3815\u001b[0m     \u001b[38;5;66;03m#  InvalidIndexError. Otherwise we fall through and re-raise\u001b[39;00m\n\u001b[0;32m   3816\u001b[0m     \u001b[38;5;66;03m#  the TypeError.\u001b[39;00m\n\u001b[0;32m   3817\u001b[0m     \u001b[38;5;28mself\u001b[39m\u001b[38;5;241m.\u001b[39m_check_indexing_error(key)\n",
      "\u001b[1;31mKeyError\u001b[0m: 'Nombre'"
     ]
    }
   ],
   "source": [
    "import pandas as pd\n",
    "from sklearn.metrics.pairwise import cosine_similarity\n",
    "import ipywidgets as widgets\n",
    "from IPython.display import display\n",
    "\n",
    "# Función para cargar el archivo CSV directamente desde una ruta\n",
    "def cargar_csv(ruta):\n",
    "    global df\n",
    "    df = pd.read_csv(ruta, sep='\\t')  # Carga el archivo CSV directamente\n",
    "    display(df.head())  # Muestra una vista previa de los primeros elementos\n",
    "    \n",
    "    # Crear listas desplegables basadas en los nombres en la columna 'Nombre completo'\n",
    "    persona1_selector.options = df['Nombre completo']\n",
    "    persona2_selector.options = df['Nombre completo']\n",
    "\n",
    "# Ruta del archivo CSV (puedes cambiar esta ruta a la ubicación de tu archivo CSV)\n",
    "ruta_csv = './STI-Grupo.csv'\n",
    "\n",
    "# Cargar el archivo CSV\n",
    "cargar_csv(ruta_csv)\n",
    "\n",
    "# Crear listas desplegables para seleccionar personas\n",
    "persona1_selector = widgets.Dropdown(\n",
    "    description='Persona 1:'\n",
    ")\n",
    "\n",
    "persona2_selector = widgets.Dropdown(\n",
    "    description='Persona 2:'\n",
    ")\n",
    "\n",
    "# Botón para calcular similitud coseno\n",
    "calcular_button = widgets.Button(description='Calcular Similitud Coseno')\n",
    "\n",
    "# Espacio para mostrar el resultado\n",
    "resultado_output = widgets.Output()\n",
    "\n",
    "# Función para calcular la similitud coseno entre dos personas\n",
    "def calcular_similitud(persona1, persona2):\n",
    "    if persona1 == persona2:\n",
    "        resultado_output.clear_output()\n",
    "        with resultado_output:\n",
    "            print(\"Seleccione dos personas diferentes.\")\n",
    "        return\n",
    "    \n",
    "    # Extraer los vectores de características numéricas (seleccionando las columnas adecuadas)\n",
    "    columnas_numericas = ['# De hermanos', '# Deportes practicados', '# De creditos cursando', '# Semestre', '# Horas promedio de sueño']\n",
    "    \n",
    "    vector1 = df[df['Nombre completo'] == persona1][columnas_numericas].values\n",
    "    vector2 = df[df['Nombre completo'] == persona2][columnas_numericas].values\n",
    "    \n",
    "    # Calcular la similitud coseno\n",
    "    similitud = cosine_similarity(vector1, vector2)[0][0]\n",
    "    \n",
    "    # Mostrar el resultado\n",
    "    resultado_output.clear_output()\n",
    "    with resultado_output:\n",
    "        print(f\"La similitud coseno entre {persona1} y {persona2} es: {similitud:.4f}\")\n",
    "\n",
    "# Conectar el botón con la función de cálculo\n",
    "calcular_button.on_click(lambda _: calcular_similitud(persona1_selector.value, persona2_selector.value))\n",
    "\n",
    "# Mostrar la interfaz de usuario\n",
    "display(persona1_selector, persona2_selector, calcular_button, resultado_output)\n",
    "\n"
   ]
  }
 ],
 "metadata": {
  "kernelspec": {
   "display_name": "base",
   "language": "python",
   "name": "python3"
  },
  "language_info": {
   "codemirror_mode": {
    "name": "ipython",
    "version": 3
   },
   "file_extension": ".py",
   "mimetype": "text/x-python",
   "name": "python",
   "nbconvert_exporter": "python",
   "pygments_lexer": "ipython3",
   "version": "3.11.9"
  }
 },
 "nbformat": 4,
 "nbformat_minor": 2
}
