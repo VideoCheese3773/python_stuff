{
 "cells": [
  {
   "cell_type": "markdown",
   "metadata": {},
   "source": [
    "# Basics"
   ]
  },
  {
   "cell_type": "code",
   "execution_count": null,
   "metadata": {},
   "outputs": [],
   "source": [
    "#Comentarios de 1 linea\n",
    "'''\n",
    "Comentarios multilinea\n",
    "'''\n",
    "\n",
    "edadPersona = 15\n",
    "edadPlazoleta = 16\n",
    "edadMinima = 18\n",
    "\n",
    "if edadPersona >= edadMinima:\n",
    "    print(\"Puede pasar a todo\")\n",
    "elif edadPersona >= edadPlazoleta:\n",
    "    print(\"Puede pasar a plazoleta\")\n",
    "else:\n",
    "    print(\"No puede pasar\")"
   ]
  },
  {
   "cell_type": "code",
   "execution_count": null,
   "metadata": {},
   "outputs": [],
   "source": [
    "print(type(False))\n",
    "\n",
    "#operadores\n",
    "\n",
    "#todo verdadero\n",
    "#and\n",
    "\n",
    "print(True and True)\n",
    "print(True and False)\n",
    "print(False and True)\n",
    "print(False and False)\n",
    "\n",
    "#algo verdadero\n",
    "#or\n",
    "\n",
    "print(True or True)\n",
    "print(True or False)\n",
    "print(False or True)\n",
    "print(False or False)\n"
   ]
  },
  {
   "cell_type": "code",
   "execution_count": null,
   "metadata": {},
   "outputs": [],
   "source": [
    "saldo = 1000000\n",
    "prestamoDisponible = 2000000\n",
    "\n",
    "retiro = 1000000\n",
    "\n",
    "if(saldo >= retiro) or (prestamoDisponible + saldo >+ retiro):\n",
    "    print(\"She ain't messing with no broke broke\")\n",
    "else:\n",
    "    print(\"He broke\")"
   ]
  },
  {
   "cell_type": "code",
   "execution_count": null,
   "metadata": {},
   "outputs": [],
   "source": [
    "#while\n",
    "n = 0\n",
    "while(n <= 10):\n",
    "    print(n)\n",
    "    n += 1"
   ]
  },
  {
   "cell_type": "code",
   "execution_count": null,
   "metadata": {},
   "outputs": [],
   "source": [
    "# For\n",
    "estudiantes = [\"Tatiana\", \"Andres\", \"Mariana\", \"Juan\", \"Pepe\", \"Viviana\"]\n",
    "\n",
    "for estudiante in estudiantes:\n",
    "    print(estudiante)"
   ]
  },
  {
   "cell_type": "code",
   "execution_count": null,
   "metadata": {},
   "outputs": [],
   "source": [
    "# Slicing\n",
    "\n",
    "numeros = [0,1,2,3,4,5,6,7,8,9]\n",
    "\n",
    "print(numeros[:5])\n",
    "\n",
    "print(numeros[3:9])\n",
    "\n",
    "print(numeros[2:])\n",
    "\n",
    "print(numeros[3:10:2])"
   ]
  },
  {
   "cell_type": "markdown",
   "metadata": {},
   "source": [
    "# Functions"
   ]
  },
  {
   "cell_type": "markdown",
   "metadata": {},
   "source": [
    "### Simple"
   ]
  },
  {
   "cell_type": "code",
   "execution_count": 26,
   "metadata": {},
   "outputs": [
    {
     "name": "stdout",
     "output_type": "stream",
     "text": [
      "Lo que sea lmao\n"
     ]
    }
   ],
   "source": [
    "def nombre():\n",
    "    print(\"Lo que sea lmao\")\n",
    "\n",
    "nombre()"
   ]
  },
  {
   "cell_type": "markdown",
   "metadata": {},
   "source": [
    "### With Parameters"
   ]
  },
  {
   "cell_type": "code",
   "execution_count": 27,
   "metadata": {},
   "outputs": [
    {
     "name": "stdout",
     "output_type": "stream",
     "text": [
      "Bazinga\n"
     ]
    }
   ],
   "source": [
    "def parametros(a = \"Idk tho\"): #IDk by default\n",
    "    print(a)\n",
    "\n",
    "parametros(\"Bazinga\")"
   ]
  },
  {
   "cell_type": "markdown",
   "metadata": {},
   "source": [
    "### Multiparameter"
   ]
  },
  {
   "cell_type": "code",
   "execution_count": 28,
   "metadata": {},
   "outputs": [
    {
     "name": "stdout",
     "output_type": "stream",
     "text": [
      "Achtung Blyat\n"
     ]
    }
   ],
   "source": [
    "def parametros(a=\"Achtung\", b=\"Bazinga\"):\n",
    "    print(a,b)\n",
    "\n",
    "parametros(b=\"Blyat\")"
   ]
  },
  {
   "cell_type": "markdown",
   "metadata": {},
   "source": [
    "# POO"
   ]
  },
  {
   "cell_type": "code",
   "execution_count": 54,
   "metadata": {},
   "outputs": [
    {
     "name": "stdout",
     "output_type": "stream",
     "text": [
      "Jose\n",
      "Moncada\n",
      "37\n",
      "Hola soy Jose Moncada y tengo 37 años\n",
      "Jose Moncada: salté 100 y grité Geronimo\n"
     ]
    }
   ],
   "source": [
    "class Persona:\n",
    "    def __init__(self, nombre, apellido, edad):\n",
    "        self.nombre = nombre\n",
    "        self.apellido = apellido\n",
    "        self.edad = edad\n",
    "    \n",
    "    def saludar(self):\n",
    "        print(f'Hola soy {self.nombre} {self.apellido} y tengo {self.edad} años')\n",
    "\n",
    "    def saltarYGritar(self, cm, scream):\n",
    "        print(f'{self.nombre} {self.apellido}: salté {cm} y grité {scream}')\n",
    "\n",
    "    #Static method\n",
    "    def saltarYGritarStatic(cm, scream):\n",
    "        print(f'salté {cm} y grité {scream}')\n",
    "    \n",
    "    #class method\n",
    "    @classmethod\n",
    "    def saludarTodos(cls):\n",
    "        print(f'Hola a todos, soy {cls.soy}')\n",
    "\n",
    "monk = Persona(\"Jose\", \"Moncada\", \"37\")\n",
    "print(monk.nombre)\n",
    "print(monk.apellido)\n",
    "print(monk.edad)\n",
    "\n",
    "monk.saludar()\n",
    "monk.saltarYGritar(100, \"Geronimo\")"
   ]
  }
 ],
 "metadata": {
  "kernelspec": {
   "display_name": "base",
   "language": "python",
   "name": "python3"
  },
  "language_info": {
   "codemirror_mode": {
    "name": "ipython",
    "version": 3
   },
   "file_extension": ".py",
   "mimetype": "text/x-python",
   "name": "python",
   "nbconvert_exporter": "python",
   "pygments_lexer": "ipython3",
   "version": "3.12.4"
  }
 },
 "nbformat": 4,
 "nbformat_minor": 2
}
