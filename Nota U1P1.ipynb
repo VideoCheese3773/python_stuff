{
 "cells": [
  {
   "cell_type": "markdown",
   "metadata": {},
   "source": [
    "# Python Intro 🐍\n",
    "#### Este ejercicio tiene como objetivo practicar algunas nociones básicas de Python\n",
    "https://github.com/Daniel1martinez2/sti-23-1-python-intro-exercises/blob/main/python-intro.ipynb"
   ]
  },
  {
   "cell_type": "markdown",
   "metadata": {},
   "source": [
    "## 📕 Operaciones con Strings (str)\n",
    "\n",
    "Dividir el string dado según los espacios, obteniendo como resultado una lista de las palabras"
   ]
  },
  {
   "cell_type": "code",
   "execution_count": 2,
   "metadata": {},
   "outputs": [
    {
     "name": "stdout",
     "output_type": "stream",
     "text": [
      "['The', 'universe', \"doesn't\", 'allow', 'perfection']\n"
     ]
    }
   ],
   "source": [
    "s = \"The universe doesn't allow perfection\"\n",
    "print(s.split( ))"
   ]
  },
  {
   "cell_type": "markdown",
   "metadata": {},
   "source": [
    "Dado el siguiente texto construya un programa que cuente los caracteres sin contar los espacios:\n",
    "\n"
   ]
  },
  {
   "cell_type": "code",
   "execution_count": 16,
   "metadata": {},
   "outputs": [
    {
     "name": "stdout",
     "output_type": "stream",
     "text": [
      "61\n"
     ]
    }
   ],
   "source": [
    "s = \"El pasado puede doler, pero tal como yo lo veo, puedes huir o aprender de él\"\n",
    "number = 0\n",
    "for word in s.split( ):\n",
    "    for letter in word:\n",
    "        number +=1\n",
    "print(number)\n"
   ]
  },
  {
   "cell_type": "markdown",
   "metadata": {},
   "source": [
    "Dado el siguiente texto, remplazar la palbra \"apple\" por \"banana\"\n",
    "\n"
   ]
  },
  {
   "cell_type": "code",
   "execution_count": 18,
   "metadata": {},
   "outputs": [
    {
     "name": "stdout",
     "output_type": "stream",
     "text": [
      "If you wish to make a banana pie from scratch, you must first invent the universe\n"
     ]
    }
   ],
   "source": [
    "s = \"If you wish to make an apple pie from scratch, you must first invent the universe\"\n",
    "newString = s.replace(\"an apple\", \"a banana\")\n",
    "print(newString)"
   ]
  },
  {
   "cell_type": "markdown",
   "metadata": {},
   "source": [
    "Usar .format() para imprimir el siguiente string:\n",
    "\n"
   ]
  },
  {
   "cell_type": "code",
   "execution_count": 20,
   "metadata": {},
   "outputs": [
    {
     "name": "stdout",
     "output_type": "stream",
     "text": [
      "The diameter of Earth is 12742 kilometers\n"
     ]
    }
   ],
   "source": [
    "s = \"The diameter of {planet} is {diameter} kilometers\"\n",
    "planet = \"Earth\"\n",
    "diameter = 12742\n",
    "\n",
    "print(s.format(planet = planet, diameter = diameter))"
   ]
  },
  {
   "cell_type": "markdown",
   "metadata": {},
   "source": [
    "## 🍕 Operaciones con Listas\n",
    "Dada la siguiente lista, obtener los primeros 3 elementos en una lista disferente (no modificar la lista original)\n",
    "\n"
   ]
  },
  {
   "cell_type": "code",
   "execution_count": 25,
   "metadata": {},
   "outputs": [
    {
     "name": "stdout",
     "output_type": "stream",
     "text": [
      "lst: [0, 1, 2, 3, 4, 5, 6, 7, 8, 9, 10], newLst: [3, 4, 5, 6, 7, 8, 9, 10]\n"
     ]
    }
   ],
   "source": [
    "lst = [0, 1, 2, 3, 4, 5, 6, 7, 8, 9, 10]\n",
    "newLst = lst[3:]\n",
    "print(f'lst: {lst}, newLst: {newLst}')\n"
   ]
  },
  {
   "cell_type": "markdown",
   "metadata": {},
   "source": [
    "Dada la siguiente lista, obtener los últimos 3 elementos en una lista diferente (no modificar la lista original)\n",
    "\n"
   ]
  },
  {
   "cell_type": "code",
   "execution_count": 36,
   "metadata": {},
   "outputs": [
    {
     "name": "stdout",
     "output_type": "stream",
     "text": [
      "lst: [0, 1, 2, 3, 4, 5, 6, 7, 8, 9, 10], newLst: [8, 9, 10]\n"
     ]
    }
   ],
   "source": [
    "lst = [0, 1, 2, 3, 4, 5, 6, 7, 8, 9, 10]\n",
    "newLst = list(reversed(lst))\n",
    "newLst = list(reversed(newLst[:3]))\n",
    "print(f'lst: {lst}, newLst: {newLst}')"
   ]
  },
  {
   "cell_type": "markdown",
   "metadata": {},
   "source": [
    "Dada la siguiente lista, obtener solo los números pares\n",
    "\n"
   ]
  },
  {
   "cell_type": "code",
   "execution_count": 37,
   "metadata": {},
   "outputs": [
    {
     "name": "stdout",
     "output_type": "stream",
     "text": [
      "[0, 2, 4, 6, 8, 10]\n"
     ]
    }
   ],
   "source": [
    "lst = [0, 1, 2, 3, 4, 5, 6, 7, 8, 9, 10]\n",
    "newLst = []\n",
    "for num in lst:\n",
    "    if num % 2 == 0:\n",
    "        newLst.append(num)\n",
    "print(newLst)"
   ]
  },
  {
   "cell_type": "markdown",
   "metadata": {},
   "source": [
    "Dada la siguiente lista, revertir la lista\n",
    "\n"
   ]
  },
  {
   "cell_type": "code",
   "execution_count": 38,
   "metadata": {},
   "outputs": [
    {
     "name": "stdout",
     "output_type": "stream",
     "text": [
      "[10, 9, 8, 7, 6, 5, 4, 3, 2, 1, 0]\n"
     ]
    }
   ],
   "source": [
    "lst = [0, 1, 2, 3, 4, 5, 6, 7, 8, 9, 10]\n",
    "newLst = list(reversed(lst))\n",
    "print(newLst)"
   ]
  },
  {
   "cell_type": "markdown",
   "metadata": {},
   "source": [
    "Ordenar la siguiente lista de menor a mayor\n",
    "\n"
   ]
  },
  {
   "cell_type": "code",
   "execution_count": 44,
   "metadata": {},
   "outputs": [
    {
     "name": "stdout",
     "output_type": "stream",
     "text": [
      "[4, 1, 6, 12, 3, 2, 1, 7, 1, 0, 14]\n",
      "[1, 4, 6, 3, 2, 1, 7, 1, 0, 12, 14]\n"
     ]
    }
   ],
   "source": [
    "lst = [4, 1, 6, 12, 3, 2, 1, 7, 1, 0, 14]\n",
    "\n",
    "def bubble_sort(arr):\n",
    "    for n in range(len(arr) - 1, 0, -1):\n",
    "        swapped = False\n",
    "        for i in range(n):\n",
    "            if arr[i] > arr[i + 1]:\n",
    "                swapped = True\n",
    "                arr[i], arr[i + 1] = arr[i + 1], arr[i]\n",
    "            if not swapped:\n",
    "                return\n",
    "\n",
    "print(lst)\n",
    "bubble_sort(lst)\n",
    "print(lst)"
   ]
  },
  {
   "cell_type": "markdown",
   "metadata": {},
   "source": [
    "Dada la siguiente lista, seleccionar e imprimir la palabra \"Hello\""
   ]
  },
  {
   "cell_type": "code",
   "execution_count": 53,
   "metadata": {},
   "outputs": [
    {
     "ename": "TypeError",
     "evalue": "'int' object is not iterable",
     "output_type": "error",
     "traceback": [
      "\u001b[1;31m---------------------------------------------------------------------------\u001b[0m",
      "\u001b[1;31mTypeError\u001b[0m                                 Traceback (most recent call last)",
      "Cell \u001b[1;32mIn[53], line 7\u001b[0m\n\u001b[0;32m      5\u001b[0m \u001b[38;5;28;01mfor\u001b[39;00m thing \u001b[38;5;129;01min\u001b[39;00m item:\n\u001b[0;32m      6\u001b[0m     \u001b[38;5;28;01mif\u001b[39;00m \u001b[38;5;28mtype\u001b[39m(item) \u001b[38;5;241m==\u001b[39m \u001b[38;5;28mlist\u001b[39m:\n\u001b[1;32m----> 7\u001b[0m         \u001b[38;5;28;01mfor\u001b[39;00m a \u001b[38;5;129;01min\u001b[39;00m thing:\n\u001b[0;32m      8\u001b[0m             \u001b[38;5;28;01mif\u001b[39;00m a \u001b[38;5;241m==\u001b[39m \u001b[38;5;124m'\u001b[39m\u001b[38;5;124mhello\u001b[39m\u001b[38;5;124m'\u001b[39m:\n\u001b[0;32m      9\u001b[0m                 \u001b[38;5;28mprint\u001b[39m(a)\n",
      "\u001b[1;31mTypeError\u001b[0m: 'int' object is not iterable"
     ]
    }
   ],
   "source": [
    "lst = [1,2,[3,4],[5,[100,200,['hello']],23,11],1,7]\n",
    "\n",
    "for item in lst:\n",
    "    if type(item) == list:\n",
    "        for thing in item:\n",
    "            if type(item) == list:\n",
    "                for a in thing:\n",
    "                    if a == 'hello':\n",
    "                        print(a)\n"
   ]
  }
 ],
 "metadata": {
  "kernelspec": {
   "display_name": "base",
   "language": "python",
   "name": "python3"
  },
  "language_info": {
   "codemirror_mode": {
    "name": "ipython",
    "version": 3
   },
   "file_extension": ".py",
   "mimetype": "text/x-python",
   "name": "python",
   "nbconvert_exporter": "python",
   "pygments_lexer": "ipython3",
   "version": "3.12.4"
  }
 },
 "nbformat": 4,
 "nbformat_minor": 2
}
